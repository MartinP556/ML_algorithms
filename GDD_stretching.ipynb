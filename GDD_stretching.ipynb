{
 "cells": [
  {
   "cell_type": "code",
   "execution_count": null,
   "metadata": {},
   "outputs": [],
   "source": [
    "import numpy as np\n",
    "import pandas as pd\n",
    "import xarray as xr\n",
    "import matplotlib.pyplot as plt\n",
    "import seaborn as sns\n",
    "import plotting\n",
    "import dataset_fctns\n",
    "from scipy import stats\n",
    "from scipy.stats import truncnorm"
   ]
  },
  {
   "cell_type": "code",
   "execution_count": null,
   "metadata": {},
   "outputs": [],
   "source": [
    "def combine_columns(ds, Africa=False, numdays = 260):\n",
    "    list_of_arrays = []\n",
    "    if Africa:\n",
    "        metadata_columns = ['year', 'Stations_id', 'lat', 'lon', 'WC SOS date']\n",
    "        temp_variable = 'temperature'\n",
    "    else:\n",
    "        metadata_columns = ['year', 'Stations_id', 'lat', 'lon', 'SOS', 'WC SOS date']\n",
    "        temp_variable = 't2m'\n",
    "    for day_index in range(numdays):\n",
    "        day_array = ds[metadata_columns + [f'NDVI interpolated at day {day_index}', f'{temp_variable} at day {day_index}', 'observed time to beginning of flowering']].set_index(['Stations_id', 'year']).to_xarray()\n",
    "        day_array = day_array.rename({f'NDVI interpolated at day {day_index}': 'NDVI', f'{temp_variable} at day {day_index}': 't2m'})\n",
    "        day_array = day_array.expand_dims('time')\n",
    "        day_array = day_array.assign_coords(time=(\"time\", [day_index]))\n",
    "        list_of_arrays.append(day_array)\n",
    "    return xr.concat(list_of_arrays, dim='time')\n",
    "#ripeness_array#.expand_dims(dim={'time':200})\n",
    "#ripeness\n",
    "\n",
    "def MVI_array(da, index_variable = 'time', response_variable = 'NDVI', bins = np.arange(0, 201, 10), original_length = 1):\n",
    "    binned = da.groupby_bins(index_variable, bins, labels = bins[:-1])\n",
    "    maxs = binned.max()\n",
    "    max_locs = binned.map(lambda arr: np.argmax(arr))\n",
    "    max_locs[index_variable] = max_locs[f'{index_variable}_bins'] + max_locs[response_variable]*original_length\n",
    "    #print(maxs[f'{index_variable}_bins'].shape, max_locs[index_variable].shape, maxs[response_variable].shape)\n",
    "    #print(scipy.interpolate.interp1d())\n",
    "    maxs['MVI NDVI'] = ((f'{index_variable}_bins'), np.interp(maxs[f'{index_variable}_bins'], max_locs[index_variable], maxs[response_variable]))\n",
    "    return maxs\n",
    "\n",
    "def to_temp_coords(da, new_coords = np.arange(0, 1701, 10)):\n",
    "    da['time_index'] = da['time']#\n",
    "    temps_maxed = da.groupby('t2m').max().set_coords('time_index')\n",
    "    temps_interpolated = temps_maxed.interp(t2m=new_coords, kwargs={\"fill_value\": 0})\n",
    "    return temps_interpolated\n",
    "\n",
    "def append_frame(df, row):\n",
    "    df.loc[-1] = row\n",
    "    df.index = df.index + 1\n",
    "    df = df.sort_index()\n",
    "    return df\n",
    "\n",
    "def convert_to_GDD_time(ds_inputs, numdays = 260, Africa = True, offset = 0, GDD_max = 2800, NDVI_max = 260):\n",
    "    input_array = combine_columns(ds_inputs, numdays = numdays, Africa=Africa)\n",
    "    GDD_bins = np.arange(0, GDD_max + 1, 100)\n",
    "    output_df = pd.DataFrame(columns=['Stations_id', 'year', 'observed time to beginning of flowering GDD'] + [f'NDVI at GDD {GDD_bin}' for GDD_bin in GDD_bins[:-1]])\n",
    "    count = 0\n",
    "    for statid in input_array['Stations_id'].values:\n",
    "        for year in input_array['year'].values:\n",
    "            input_array_at_year = input_array.sel(Stations_id = statid, year = year)\n",
    "            if np.isnan(input_array_at_year['t2m'].isel(time = 0)):\n",
    "                continue\n",
    "            count += 1\n",
    "            if count % 20 == 0:\n",
    "                print(f'#### {count} samples processed ####')\n",
    "            maxs = MVI_array(input_array_at_year, index_variable = 'time', response_variable = 'NDVI', bins = np.arange(0, NDVI_max + 1, 10), original_length = 1)\n",
    "            anthesis_day = maxs['observed time to beginning of flowering'].values[0].astype('timedelta64[D]') / np.timedelta64(1, 'D') + offset\n",
    "\n",
    "            temps_interpolated = to_temp_coords(input_array_at_year, new_coords = np.arange(0, GDD_max + 1, 10))\n",
    "            maxs = MVI_array(temps_interpolated, index_variable = 't2m', response_variable = 'NDVI', bins = GDD_bins, original_length = 10)\n",
    "            anthesis_GDD = input_array_at_year.isel(time = int(anthesis_day))['t2m'].values\n",
    "\n",
    "            output_df = append_frame(output_df, [statid, year, anthesis_GDD, *maxs['MVI NDVI'].values])\n",
    "    return output_df"
   ]
  },
  {
   "cell_type": "code",
   "execution_count": null,
   "metadata": {},
   "outputs": [],
   "source": [
    "GDD_LSP_list = []\n",
    "for n in range(0, 1800, 100):\n",
    "    GDD_LSP_list.append(pd.read_csv(f'C:\\\\Users\\\\wlwc1989\\\\Documents\\\\Phenology_Test_Notebooks\\\\phenology_dwd\\\\results_for_comparing\\\\GDD_time_MODIS_savgol_NDVI_DE_{n}.csv'))"
   ]
  },
  {
   "cell_type": "code",
   "execution_count": null,
   "metadata": {},
   "outputs": [],
   "source": [
    "pd.concat(GDD_LSP_list).to_csv('C:\\\\Users\\\\wlwc1989\\\\Documents\\\\Phenology_Test_Notebooks\\\\phenology_dwd\\\\results_for_comparing\\\\for_baseline_tests\\\\GDD_time_MODIS_savgol_NDVI_DE.csv')"
   ]
  },
  {
   "cell_type": "code",
   "execution_count": null,
   "metadata": {},
   "outputs": [],
   "source": [
    "import warnings\n",
    "with warnings.catch_warnings(action=\"ignore\"):\n",
    "    GDD_time_SSA = convert_to_GDD_time(ds_inputs_SSA)#.loc[:10, :])\n",
    "    GDD_time_SSA.to_csv(f'C:\\\\Users\\\\wlwc1989\\\\Documents\\\\Phenology_Test_Notebooks\\\\phenology_dwd\\\\results_for_comparing\\\\GDD_time_MODIS_savgol_NDVI_SSA.csv')"
   ]
  },
  {
   "cell_type": "code",
   "execution_count": null,
   "metadata": {},
   "outputs": [],
   "source": [
    "#import warnings\n",
    "#with warnings.catch_warnings(action=\"ignore\"):\n",
    "#    for n in range(0, 1800, 100):\n",
    "#        print(n)\n",
    "#        GDD_time_DE = convert_to_GDD_time(ds_inputs_DE[n:(n + 100)], Africa=False, numdays=190)#.loc[:10, :])\n",
    "#        GDD_time_DE.to_csv(f'C:\\\\Users\\\\wlwc1989\\\\Documents\\\\Phenology_Test_Notebooks\\\\phenology_dwd\\\\results_for_comparing\\\\GDD_time_MODIS_savgol_NDVI_DE_{n}.csv')"
   ]
  },
  {
   "cell_type": "code",
   "execution_count": null,
   "metadata": {},
   "outputs": [],
   "source": [
    "input_array = combine_columns(ds_inputs_DE, numdays = 190)\n",
    "fig, axs = plt.subplots(1, 2)\n",
    "for statid in input_array['Stations_id'].values[[0, 10, 20, 30]]:\n",
    "    for year in input_array['year'].values[0:7]:\n",
    "        input_array_at_year = input_array.sel(Stations_id = statid, year = year)\n",
    "        if np.isnan(input_array_at_year['t2m'].isel(time = 0)):\n",
    "            continue\n",
    "        time_binned = input_array_at_year.groupby_bins('time', np.arange(0, 191, 10), labels = np.arange(0, 181, 10))\n",
    "        maxs = MVI_array(input_array_at_year, index_variable = 'time', response_variable = 'NDVI', bins = np.arange(0, 261, 10), original_length = 1)\n",
    "        axs[0].plot(maxs['time_bins'], maxs['MVI NDVI'], color = 'red', alpha = 0.5)\n",
    "        anthesis_day = maxs['observed time to beginning of flowering'].values[0].astype('timedelta64[D]') / np.timedelta64(1, 'D')# + 60\n",
    "        axs[0].axvline(anthesis_day)\n",
    "        temps_interpolated = to_temp_coords(input_array_at_year, new_coords = np.arange(0, 3801, 10))\n",
    "        maxs = MVI_array(temps_interpolated, index_variable = 't2m', response_variable = 'NDVI', bins = np.arange(0, 3801, 100), original_length = 10)\n",
    "        axs[1].plot(maxs['t2m_bins'], maxs['MVI NDVI'], color = 'red', alpha = 0.5)\n",
    "        anthesis_GDD = input_array_at_year.isel(time = int(anthesis_day))['t2m'].values\n",
    "        print(anthesis_GDD)\n",
    "        axs[1].axvline(anthesis_GDD)"
   ]
  },
  {
   "cell_type": "code",
   "execution_count": null,
   "metadata": {},
   "outputs": [],
   "source": [
    "input_array = combine_columns(ds_inputs_SSA, Africa=True)\n",
    "fig, axs = plt.subplots(1, 2)\n",
    "for statid in input_array['Stations_id'].values[0:15]:\n",
    "    for year in input_array['year'].values[0:7]:\n",
    "        input_array_at_year = input_array.sel(Stations_id = statid, year = year)\n",
    "        if np.isnan(input_array_at_year['t2m'].isel(time = 0)):\n",
    "            continue\n",
    "        time_binned = input_array_at_year.groupby_bins('time', np.arange(0, 261, 10), labels = np.arange(0, 251, 10))\n",
    "        maxs = MVI_array(input_array_at_year, index_variable = 'time', response_variable = 'NDVI', bins = np.arange(0, 261, 10), original_length = 1)\n",
    "        axs[0].plot(maxs['time_bins'], maxs['MVI NDVI'], color = 'red', alpha = 0.5)\n",
    "        anthesis_day = maxs['observed time to beginning of flowering'].values[0].astype('timedelta64[D]') / np.timedelta64(1, 'D')# + 60\n",
    "        axs[0].axvline(anthesis_day)\n",
    "        temps_interpolated = to_temp_coords(input_array_at_year, new_coords = np.arange(0, 3801, 10))\n",
    "        maxs = MVI_array(temps_interpolated, index_variable = 't2m', response_variable = 'NDVI', bins = np.arange(0, 3801, 100), original_length = 10)\n",
    "        axs[1].plot(maxs['t2m_bins'], maxs['MVI NDVI'], color = 'red', alpha = 0.5)\n",
    "        anthesis_GDD = input_array_at_year.isel(time = int(anthesis_day))['t2m'].values\n",
    "        print(anthesis_GDD)\n",
    "        axs[1].axvline(anthesis_GDD)"
   ]
  },
  {
   "cell_type": "code",
   "execution_count": null,
   "metadata": {},
   "outputs": [],
   "source": [
    "input_array = combine_columns(ds_inputs_SSA, Africa=True)\n",
    "fig, axs = plt.subplots(1, 2)\n",
    "for statid in input_array['Stations_id'].values[14:18]:\n",
    "    for year in input_array['year'].values[0:8]:\n",
    "        input_array_at_year = input_array.sel(Stations_id = statid, year = year)\n",
    "        if np.isnan(input_array_at_year['t2m'].isel(time = 0)):\n",
    "            continue\n",
    "        #time_binned = input_array_at_year.groupby_bins('time', np.arange(0, 261, 10), labels = np.arange(0, 251, 10))\n",
    "        maxs = MVI_array(input_array_at_year, index_variable = 'time', response_variable = 'NDVI', bins = np.arange(0, 261, 10), original_length = 1)\n",
    "        axs[0].plot(maxs['time_bins'], maxs['MVI NDVI'], color = 'red', alpha = 0.5)\n",
    "        anthesis_day = maxs['observed time to beginning of flowering'].values[0].astype('timedelta64[D]') / np.timedelta64(1, 'D') + 60\n",
    "        axs[0].axvline(anthesis_day)\n",
    "        temps_interpolated = to_temp_coords(input_array_at_year, new_coords = np.arange(0, 5801, 10))\n",
    "        maxs = MVI_array(temps_interpolated, index_variable = 't2m', response_variable = 'NDVI', bins = np.arange(0, 5801, 100), original_length = 10)\n",
    "        axs[1].plot(maxs['t2m_bins'], maxs['MVI NDVI'], color = 'red', alpha = 0.5)\n",
    "        anthesis_GDD = input_array_at_year.isel(time = int(anthesis_day))['t2m'].values\n",
    "        print(anthesis_GDD)\n",
    "        axs[1].axvline(anthesis_GDD)"
   ]
  }
 ],
 "metadata": {
  "language_info": {
   "name": "python"
  }
 },
 "nbformat": 4,
 "nbformat_minor": 2
}
